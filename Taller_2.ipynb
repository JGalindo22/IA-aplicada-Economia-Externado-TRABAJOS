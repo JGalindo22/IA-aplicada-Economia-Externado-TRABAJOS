{
  "nbformat": 4,
  "nbformat_minor": 0,
  "metadata": {
    "colab": {
      "provenance": []
    },
    "kernelspec": {
      "name": "python3",
      "display_name": "Python 3"
    },
    "language_info": {
      "name": "python"
    }
  },
  "cells": [
    {
      "cell_type": "markdown",
      "source": [
        "##Punto 1\n"
      ],
      "metadata": {
        "id": "tYZVCLRmc0Qn"
      }
    },
    {
      "cell_type": "markdown",
      "source": [
        "Escribe un programa que pida la inflación y muestre el porcentaje de aumento salarial aprobado teniendo en cuenta las siguientes condiciones:\n",
        "\n",
        "- Si la inflación es mayor al 10%, el gobierno aprueba un aumento salarial del 12%.\n",
        "\n",
        "- Si la inflación está entre 6% y 10%, el aumento es del 8%.\n",
        "\n",
        "- Si es menor al 6%, el aumento es del 5%.\n"
      ],
      "metadata": {
        "id": "mYhv9MBHcXN2"
      }
    },
    {
      "cell_type": "code",
      "execution_count": 5,
      "metadata": {
        "colab": {
          "base_uri": "https://localhost:8080/"
        },
        "id": "xSNybSohahBr",
        "outputId": "b2dcb683-8874-433a-9a6a-a0b5b2bc906f"
      },
      "outputs": [
        {
          "output_type": "stream",
          "name": "stdout",
          "text": [
            "Ingrese la inflación (%): 5\n",
            "Con una inflación de 5.0%, el aumento salarial aprobado es del 5%.\n"
          ]
        }
      ],
      "source": [
        "inflacion = float(input(\"Ingrese la inflación (%): \"))\n",
        "\n",
        "if inflacion > 10:\n",
        "    aumento = 12\n",
        "elif 6 <= inflacion <= 10:\n",
        "    aumento = 8\n",
        "else:\n",
        "    aumento = 5\n",
        "print(f\"Con una inflación de {inflacion}%, el aumento salarial aprobado es del {aumento}%.\")\n"
      ]
    },
    {
      "cell_type": "markdown",
      "source": [
        "##Punto 2\n"
      ],
      "metadata": {
        "id": "9yXnuk0Tc7Jc"
      }
    },
    {
      "cell_type": "markdown",
      "source": [
        "Tienes una lista con el número de empresas registradas en diferentes ciudades. Usa un ciclo for para contar cuántas ciudades tienen más de 100 empresas y muestra el resultado en pantalla como: \"Número de ciudades con más de 100 empresas: X\""
      ],
      "metadata": {
        "id": "2fD85uCQdCdk"
      }
    },
    {
      "cell_type": "code",
      "source": [
        "empresas = [120, 85, 340, 210, 95]\n",
        "\n",
        "contador = 0\n",
        "\n",
        "for cantidad in empresas:\n",
        "    if cantidad > 100:\n",
        "        contador += 1\n",
        "print(f\"Número de ciudades con más de 100 empresas: {contador}\")\n"
      ],
      "metadata": {
        "colab": {
          "base_uri": "https://localhost:8080/"
        },
        "id": "B6TCSBuNdEoA",
        "outputId": "56e29ab5-7b5e-4f8e-a911-7b07380f73b7"
      },
      "execution_count": 8,
      "outputs": [
        {
          "output_type": "stream",
          "name": "stdout",
          "text": [
            "Número de ciudades con más de 100 empresas: 3\n"
          ]
        }
      ]
    },
    {
      "cell_type": "markdown",
      "source": [
        "##Punto 3\n"
      ],
      "metadata": {
        "id": "x0koAtLPhL-A"
      }
    },
    {
      "cell_type": "markdown",
      "source": [
        "Escribe un programa que imprima todos los múltiplos de 5 entre 1 y 50, utilizando range()."
      ],
      "metadata": {
        "id": "44HWrJLmhNoz"
      }
    },
    {
      "cell_type": "code",
      "source": [
        "for i in range(5, 51, 5):\n",
        "    print(i)\n"
      ],
      "metadata": {
        "colab": {
          "base_uri": "https://localhost:8080/"
        },
        "id": "jFe4oxiuhVTK",
        "outputId": "977022a7-237f-4f3f-faff-aa60c8cf4220"
      },
      "execution_count": 9,
      "outputs": [
        {
          "output_type": "stream",
          "name": "stdout",
          "text": [
            "5\n",
            "10\n",
            "15\n",
            "20\n",
            "25\n",
            "30\n",
            "35\n",
            "40\n",
            "45\n",
            "50\n"
          ]
        }
      ]
    },
    {
      "cell_type": "markdown",
      "source": [
        "##Punto 4\n"
      ],
      "metadata": {
        "id": "6lDGgKL4hZuE"
      }
    },
    {
      "cell_type": "markdown",
      "source": [
        "Un cajero automático tiene 500.000 pesos disponibles. Un usuario puede retirar varias veces, pero no puede retirar más de lo que queda en el cajero. Escribe un programa que:\n",
        "\n",
        "- Pregunte cuánto quiere retirar.\n",
        "\n",
        "- Reste ese valor al saldo.\n",
        "\n",
        "- Termine cuando el saldo llegue a 0 o el usuario escriba 0"
      ],
      "metadata": {
        "id": "b7tYbwdshcAS"
      }
    },
    {
      "cell_type": "code",
      "source": [
        "saldo = 500000\n",
        "\n",
        "while saldo > 0:\n",
        "    print(f\"\\nSaldo disponible: {saldo}\")\n",
        "    retiro = int(input(\"¿Cuánto desea retirar? (0 para salir): \"))\n",
        "\n",
        "    if retiro == 0:\n",
        "        print(\"Operación finalizada por el usuario.\")\n",
        "        break\n",
        "\n",
        "    if retiro > saldo:\n",
        "        print(\"No puede retirar más de lo que hay en el cajero.\")\n",
        "    else:\n",
        "        saldo -= retiro\n",
        "        print(f\"Retiro exitoso. Nuevo saldo: {saldo}\")\n",
        "\n",
        "if saldo == 0:\n",
        "    print(\"\\nEl cajero se quedó sin fondos.\")\n"
      ],
      "metadata": {
        "colab": {
          "base_uri": "https://localhost:8080/"
        },
        "id": "KKBJdYiRhj-0",
        "outputId": "1098da4b-61c6-4397-c3bc-8240be2b2e77"
      },
      "execution_count": 11,
      "outputs": [
        {
          "output_type": "stream",
          "name": "stdout",
          "text": [
            "\n",
            "Saldo disponible: 500000\n",
            "¿Cuánto desea retirar? (0 para salir): 550000\n",
            "No puede retirar más de lo que hay en el cajero.\n",
            "\n",
            "Saldo disponible: 500000\n",
            "¿Cuánto desea retirar? (0 para salir): 500000\n",
            "Retiro exitoso. Nuevo saldo: 0\n",
            "\n",
            "El cajero se quedó sin fondos.\n"
          ]
        }
      ]
    },
    {
      "cell_type": "markdown",
      "source": [
        "##Punto 5"
      ],
      "metadata": {
        "id": "OOCanTlSiAu-"
      }
    },
    {
      "cell_type": "markdown",
      "source": [
        "Crea una función raiz_cuadrada(num) que calcule la raíz cuadrada de un número.\n",
        "\n",
        "Si el número es negativo, devuelve: \"Error: no se puede calcular la raíz cuadrada de un número negativo.\"\n",
        "\n",
        "Si el valor no es numérico, devuelve: \"Error: el valor debe ser numérico.\"\n",
        "\n",
        "NOTA: utiliza import math y la función math.sqrt(num)"
      ],
      "metadata": {
        "id": "30RcHJMbh_QW"
      }
    },
    {
      "cell_type": "code",
      "source": [
        "import math\n",
        "\n",
        "def raiz_cuadrada(num):\n",
        "    try:\n",
        "        num = float(num)\n",
        "\n",
        "        if num < 0:\n",
        "            return \"Error: no se puede calcular la raíz cuadrada de un número negativo.\"\n",
        "        else:\n",
        "            return math.sqrt(num)\n",
        "\n",
        "    except ValueError:\n",
        "        return \"Error: el valor debe ser numérico.\"\n",
        "\n",
        "print(raiz_cuadrada(16))\n",
        "print(raiz_cuadrada(2.25))\n",
        "print(raiz_cuadrada(-9))\n",
        "print(raiz_cuadrada(\"abc\"))\n"
      ],
      "metadata": {
        "colab": {
          "base_uri": "https://localhost:8080/"
        },
        "id": "YaWNZ-qNiFsw",
        "outputId": "dc8bd7fc-d6ac-41ab-f486-1a3c2ee6276d"
      },
      "execution_count": 15,
      "outputs": [
        {
          "output_type": "stream",
          "name": "stdout",
          "text": [
            "4.0\n",
            "1.5\n",
            "Error: no se puede calcular la raíz cuadrada de un número negativo.\n",
            "Error: el valor debe ser numérico.\n"
          ]
        }
      ]
    },
    {
      "cell_type": "markdown",
      "source": [
        "##Punto 6"
      ],
      "metadata": {
        "id": "3x1OznvxtN6N"
      }
    },
    {
      "cell_type": "markdown",
      "source": [
        "Escribe una función llamada es_par que reciba un número entero como parámetro y retorne True si el número es par y False si es impar.\n",
        "\n",
        "NOTA: % es el operador módulo en Python. Lo que hace es dividir un número entre otro y devolver el residuo (lo que sobra de la división entera).\n",
        "\n",
        "Si al dividir un número en 2, el residuo es cero, entonces el número es par, de lo contrario, es impar."
      ],
      "metadata": {
        "id": "G3puX8yYtQtS"
      }
    },
    {
      "cell_type": "code",
      "source": [
        "def es_par(numero):\n",
        "    if numero % 2 == 0:\n",
        "        return True\n",
        "    else:\n",
        "        return False\n",
        "\n",
        "print(es_par(10))\n",
        "print(es_par(7))\n",
        "print(es_par(0))\n"
      ],
      "metadata": {
        "colab": {
          "base_uri": "https://localhost:8080/"
        },
        "id": "_1iXlLjatQF7",
        "outputId": "b6b75b85-e1ca-4130-e356-28a82dfe5932"
      },
      "execution_count": 20,
      "outputs": [
        {
          "output_type": "stream",
          "name": "stdout",
          "text": [
            "True\n",
            "False\n",
            "True\n"
          ]
        }
      ]
    },
    {
      "cell_type": "markdown",
      "source": [
        "##Punto 7"
      ],
      "metadata": {
        "id": "S49wmbZ0vuUq"
      }
    },
    {
      "cell_type": "markdown",
      "source": [
        "\n",
        "Escribe un código que permita al usuario crear una contraseña y que verifique que esta cumpla todas las siguientes condiciones:\n",
        "\n",
        "Tiene al menos 8 caracteres.\n",
        "\n",
        "Contiene al menos una letra mayúscula.\n",
        "\n",
        "Contiene al menos una letra minúscula.\n",
        "\n",
        "Contiene al menos un número.\n",
        "\n",
        "Si cumple todas las condiciones, muestra \"Contraseña válida\", de lo contrario, explica qué condición no se cumple."
      ],
      "metadata": {
        "id": "zj9qUKKuvv7b"
      }
    },
    {
      "cell_type": "code",
      "source": [
        "contraseña = input(\"Crea tu contraseña: \")\n",
        "\n",
        "errores = []\n",
        "\n",
        "if len(contraseña) < 8:\n",
        "    errores.append(\"Debe tener al menos 8 caracteres.\")\n",
        "\n",
        "if not any(c.isupper() for c in contraseña):\n",
        "    errores.append(\"Debe contener al menos una letra mayúscula.\")\n",
        "\n",
        "if not any(c.islower() for c in contraseña):\n",
        "    errores.append(\"Debe contener al menos una letra minúscula.\")\n",
        "\n",
        "if not any(c.isdigit() for c in contraseña):\n",
        "    errores.append(\"Debe contener al menos un número.\")\n",
        "\n",
        "if len(errores) == 0:\n",
        "    print(\"Contraseña válida\")\n",
        "else:\n",
        "    print(\"Contraseña inválida. Razones:\")\n",
        "    for error in errores:\n",
        "        print(\"-\", error)"
      ],
      "metadata": {
        "colab": {
          "base_uri": "https://localhost:8080/"
        },
        "id": "_csurHf4vytH",
        "outputId": "7ca4a818-4ba7-4d27-c432-a677dd01f9cb"
      },
      "execution_count": 23,
      "outputs": [
        {
          "output_type": "stream",
          "name": "stdout",
          "text": [
            "Crea tu contraseña: Rufus2201\n",
            "Contraseña válida\n"
          ]
        }
      ]
    },
    {
      "cell_type": "markdown",
      "source": [
        "##Punto 8"
      ],
      "metadata": {
        "id": "VIAKe6iBxAQ-"
      }
    },
    {
      "cell_type": "markdown",
      "source": [
        "Crea una función llamada \"extraer_dominio\" que extraiga el dominio de una página web a partir de una cadena que contenga un email de la siguiente forma:\n",
        "\n",
        "usuario@dominio.com\n",
        "\n",
        "Por ejemplo: si se le pasa \"lmcastroco@gmail.com\", la función retornará: gmail.com"
      ],
      "metadata": {
        "id": "g1XiaTlgxCer"
      }
    },
    {
      "cell_type": "code",
      "source": [
        "def extraer_dominio(email):\n",
        "    try:\n",
        "        partes = email.split(\"@\")\n",
        "        if len(partes) == 2:\n",
        "            return partes[1]\n",
        "        else:\n",
        "            return \"Error: formato de correo inválido.\"\n",
        "    except:\n",
        "        return \"Error: valor no válido.\"\n",
        "\n",
        "print(extraer_dominio(\"lmcastroco@gmail.com\"))\n",
        "print(extraer_dominio(\"juan@outlook.es\"))\n",
        "print(extraer_dominio(\"correo.com\"))\n",
        "\n"
      ],
      "metadata": {
        "colab": {
          "base_uri": "https://localhost:8080/"
        },
        "id": "T9mg6-vZxF3_",
        "outputId": "25074d63-c2d8-4973-8933-494b34f19989"
      },
      "execution_count": 29,
      "outputs": [
        {
          "output_type": "stream",
          "name": "stdout",
          "text": [
            "gmail.com\n",
            "outlook.es\n",
            "Error: formato de correo inválido.\n"
          ]
        }
      ]
    },
    {
      "cell_type": "markdown",
      "source": [
        "##Punto 9"
      ],
      "metadata": {
        "id": "U4_75Rp0ykjg"
      }
    },
    {
      "cell_type": "markdown",
      "source": [
        "Escribe una función llamada contar_desempleo que reciba una cadena y retorne el número de veces que aparece la palabra \"desempleo\" en el texto. Ten en cuenta que la palabra puede estar en mayúsculas, minúsculas o una mezcla de ellas, pero por ahora no te preocupes por casos especiales como cuando la palabra tiene algún signo de puntuación inmediatamente despúes de ésta."
      ],
      "metadata": {
        "id": "PnQbyJF4ymnm"
      }
    },
    {
      "cell_type": "code",
      "source": [
        "def contar_desempleo(cadena):\n",
        "    cadena = cadena.lower()\n",
        "    return cadena.count(\"desempleo\")\n",
        "\n",
        "print(contar_desempleo(\"El desempleo es un problema. El DESEMPLEO afecta a muchas personas.\"))\n",
        "\n",
        "print(contar_desempleo(\"El dEseMPLeo aumentó en enero.\"))\n",
        "\n",
        "print(contar_desempleo(\"El gobierno tiene como meta reducir el número de personas desocupadas un 10%.\"))"
      ],
      "metadata": {
        "colab": {
          "base_uri": "https://localhost:8080/"
        },
        "id": "z--eFh9sywRh",
        "outputId": "1fb1aff4-1df5-47bf-960a-a724e8e1beef"
      },
      "execution_count": 32,
      "outputs": [
        {
          "output_type": "stream",
          "name": "stdout",
          "text": [
            "2\n",
            "1\n",
            "0\n"
          ]
        }
      ]
    },
    {
      "cell_type": "markdown",
      "source": [
        "##Punto 10"
      ],
      "metadata": {
        "id": "PtEI-oCzzxtp"
      }
    },
    {
      "cell_type": "markdown",
      "source": [
        "Vas conduciendo un carro muy rápido y eres detenido por un agente de tránsito.\n",
        "\n",
        "Escribe una función \"multa\" que retorne uno de los 3 siguientes resultados:\n",
        "\n",
        "- Si la velocidad es 60 Km/h o menos, el resultado es \"Sin multa\".\n",
        "- Si la velocidad está entre 60 y 80 Km/h (inclusive), el resultado es \"Multa pequeña\".\n",
        "- Si la velocidad es mayor a 80 Km/h, el resultado es \"Multa grande\".\n",
        "Además, considera que si esto ocurre el día de tu cumpleaños (codificado como parámetro booleano que recibe la función), tu velocidad podría ser 5 Km/ mayor en todos los casos."
      ],
      "metadata": {
        "id": "TLlNU9EHzzFi"
      }
    },
    {
      "cell_type": "code",
      "source": [
        "def multa(velocidad, cumpleanios):\n",
        "    if cumpleanios:\n",
        "        velocidad -= 5\n",
        "\n",
        "    if velocidad <= 60:\n",
        "        return \"Sin multa\"\n",
        "    elif 61 <= velocidad <= 80:\n",
        "        return \"Multa pequeña\"\n",
        "    else:\n",
        "        return \"Multa grande\"\n",
        "print(multa(81, True))\n",
        "print(multa(81, False))\n",
        "print(multa(60, False))"
      ],
      "metadata": {
        "colab": {
          "base_uri": "https://localhost:8080/"
        },
        "id": "Bb-pB-vpz-vP",
        "outputId": "13b62e8b-1fd0-4104-ca5d-88846afa4ef9"
      },
      "execution_count": 35,
      "outputs": [
        {
          "output_type": "stream",
          "name": "stdout",
          "text": [
            "Multa pequeña\n",
            "Multa grande\n",
            "Sin multa\n"
          ]
        }
      ]
    }
  ]
}